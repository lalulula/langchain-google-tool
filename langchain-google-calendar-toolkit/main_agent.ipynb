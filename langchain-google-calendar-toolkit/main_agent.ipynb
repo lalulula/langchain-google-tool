{
 "cells": [
  {
   "cell_type": "code",
   "execution_count": 4,
   "metadata": {},
   "outputs": [
    {
     "data": {
      "text/plain": [
       "True"
      ]
     },
     "execution_count": 4,
     "metadata": {},
     "output_type": "execute_result"
    }
   ],
   "source": [
    "import os\n",
    "from dotenv import load_dotenv\n",
    "\n",
    "load_dotenv()\n"
   ]
  },
  {
   "cell_type": "code",
   "execution_count": 5,
   "metadata": {},
   "outputs": [],
   "source": [
    "from langchain_openai import AzureChatOpenAI\n",
    "from langchain.agents import create_tool_calling_agent, AgentExecutor\n",
    "from langchain.agents import tool\n",
    "import datetime\n",
    "from googleapiclient.discovery import build\n",
    "from google.oauth2.credentials import Credentials\n",
    "from langchain_core.prompts import PromptTemplate\n",
    "\n",
    "@tool\n",
    "def search_google_calendar_events(start_date: str, end_date: str) -> str:\n",
    "    \"\"\"\n",
    "    This tool searches Google Calendar for events between the specified start and end dates.\n",
    "    Returns event details as a string.\n",
    "    \"\"\"\n",
    "\n",
    "    creds = Credentials.from_authorized_user_file(\"token.json\")\n",
    "\n",
    "    \n",
    "    service = build(\"calendar\", \"v3\", credentials=creds)\n",
    "    \n",
    "    calendar_id = \"iesg.poscointl@gmail.com\"\n",
    "    \n",
    "    start_datetime = datetime.datetime.strptime(start_date, \"%Y-%m-%d\").isoformat() + 'Z'\n",
    "    end_datetime = datetime.datetime.strptime(end_date, \"%Y-%m-%d\").isoformat() + 'Z'\n",
    "\n",
    "    events_result = service.events().list(\n",
    "        calendarId=calendar_id,\n",
    "        timeMin=start_datetime,\n",
    "        timeMax=end_datetime,\n",
    "        singleEvents=True,\n",
    "        orderBy=\"startTime\"\n",
    "    ).execute()\n",
    "    \n",
    "    events = events_result.get(\"items\", [])\n",
    "    print(events)\n",
    "    if not events:\n",
    "        return \"No events found in the specified date range.\"\n",
    "    \n",
    "    event_details = []\n",
    "    for event in events:\n",
    "        event_start = event['start'].get('dateTime', event['start'].get('date'))\n",
    "        event_summary = event.get('summary', \"No title\")\n",
    "        event_details.append(f\"{event_start}: {event_summary}\")\n",
    "    \n",
    "    return \"\\n\".join(event_details)\n",
    "\n"
   ]
  },
  {
   "cell_type": "code",
   "execution_count": 6,
   "metadata": {},
   "outputs": [
    {
     "name": "stderr",
     "output_type": "stream",
     "text": [
      "Error in StdOutCallbackHandler.on_chain_start callback: AttributeError(\"'NoneType' object has no attribute 'get'\")\n"
     ]
    },
    {
     "name": "stdout",
     "output_type": "stream",
     "text": [
      "\u001b[32;1m\u001b[1;3m\n",
      "Invoking: `search_google_calendar_events` with `{'start_date': '2025-05-01', 'end_date': '2025-05-02'}`\n",
      "\n",
      "\n",
      "\u001b[0m[{'kind': 'calendar#event', 'etag': '\"3490596541151038\"', 'id': '14ka6c5f266ha1m2a0gdill411', 'status': 'confirmed', 'htmlLink': 'https://www.google.com/calendar/event?eid=MTRrYTZjNWYyNjZoYTFtMmEwZ2RpbGw0MTEgaWVzZy5wb3Njb2ludGxAbQ', 'created': '2025-04-22T05:04:30.000Z', 'updated': '2025-04-22T05:04:30.575Z', 'summary': 'YongSuk OFF', 'creator': {'email': 'lim.ys0112@gmail.com'}, 'organizer': {'email': 'iesg.poscointl@gmail.com', 'self': True}, 'start': {'date': '2025-05-02'}, 'end': {'date': '2025-05-03'}, 'transparency': 'transparent', 'visibility': 'public', 'iCalUID': '14ka6c5f266ha1m2a0gdill411@google.com', 'sequence': 0, 'reminders': {'useDefault': False}, 'eventType': 'default'}, {'kind': 'calendar#event', 'etag': '\"3491670002081150\"', 'id': '20qjon37603gaaldhi2mstlrip', 'status': 'confirmed', 'htmlLink': 'https://www.google.com/calendar/event?eid=MjBxam9uMzc2MDNnYWFsZGhpMm1zdGxyaXAgaWVzZy5wb3Njb2ludGxAbQ', 'created': '2025-04-28T10:10:00.000Z', 'updated': '2025-04-28T10:10:01.040Z', 'summary': 'Subin OFF', 'creator': {'email': 'yongjun.park.main@gmail.com'}, 'organizer': {'email': 'iesg.poscointl@gmail.com', 'self': True}, 'start': {'date': '2025-05-02'}, 'end': {'date': '2025-05-03'}, 'transparency': 'transparent', 'iCalUID': '20qjon37603gaaldhi2mstlrip@google.com', 'sequence': 0, 'reminders': {'useDefault': False}, 'eventType': 'default'}, {'kind': 'calendar#event', 'etag': '\"3491939107368990\"', 'id': '31gd48d3b1qgm9vbg0avi9s320', 'status': 'confirmed', 'htmlLink': 'https://www.google.com/calendar/event?eid=MzFnZDQ4ZDNiMXFnbTl2YmcwYXZpOXMzMjAgaWVzZy5wb3Njb2ludGxAbQ', 'created': '2025-04-29T23:32:33.000Z', 'updated': '2025-04-29T23:32:33.684Z', 'summary': '반반차_Yuna', 'creator': {'email': 'huny.lee@gmail.com'}, 'organizer': {'email': 'iesg.poscointl@gmail.com', 'self': True}, 'start': {'date': '2025-05-02'}, 'end': {'date': '2025-05-03'}, 'transparency': 'transparent', 'iCalUID': '31gd48d3b1qgm9vbg0avi9s320@google.com', 'sequence': 0, 'reminders': {'useDefault': False}, 'eventType': 'default'}, {'kind': 'calendar#event', 'etag': '\"3490797388525118\"', 'id': '38rnl24llu3u8anc5ck0fm0mm4', 'status': 'confirmed', 'htmlLink': 'https://www.google.com/calendar/event?eid=MzhybmwyNGxsdTN1OGFuYzVjazBmbTBtbTQgaWVzZy5wb3Njb2ludGxAbQ', 'created': '2025-04-23T08:58:14.000Z', 'updated': '2025-04-23T08:58:14.262Z', 'summary': 'Jiho OFF', 'creator': {'email': 'kjh860703@gmail.com'}, 'organizer': {'email': 'iesg.poscointl@gmail.com', 'self': True}, 'start': {'date': '2025-05-02'}, 'end': {'date': '2025-05-03'}, 'transparency': 'transparent', 'iCalUID': '38rnl24llu3u8anc5ck0fm0mm4@google.com', 'sequence': 0, 'reminders': {'useDefault': False}, 'eventType': 'default'}, {'kind': 'calendar#event', 'etag': '\"3490620843213854\"', 'id': '_8go3gd9g8h0jgb9k651k6b9k84r3cb9o691j4ba160q4chho60o36ha188', 'status': 'confirmed', 'htmlLink': 'https://www.google.com/calendar/event?eid=XzhnbzNnZDlnOGgwamdiOWs2NTFrNmI5azg0cjNjYjlvNjkxajRiYTE2MHE0Y2hobzYwbzM2aGExODggaWVzZy5wb3Njb2ludGxAbQ', 'created': '2025-04-22T08:27:01.000Z', 'updated': '2025-04-22T08:27:01.606Z', 'summary': 'ByungSoo OFF', 'creator': {'email': 'hotcall21@gmail.com'}, 'organizer': {'email': 'iesg.poscointl@gmail.com', 'self': True}, 'start': {'date': '2025-05-02'}, 'end': {'date': '2025-05-03'}, 'transparency': 'transparent', 'iCalUID': 'D0850DA8-41CC-4A66-82C2-A04FF8003EAB', 'sequence': 0, 'reminders': {'useDefault': False}, 'eventType': 'default'}]\n",
      "\u001b[36;1m\u001b[1;3m2025-05-02: YongSuk OFF\n",
      "2025-05-02: Subin OFF\n",
      "2025-05-02: 반반차_Yuna\n",
      "2025-05-02: Jiho OFF\n",
      "2025-05-02: ByungSoo OFF\u001b[0m\u001b[32;1m\u001b[1;3mHere are the events for the date range from May 1, 2025, to May 2, 2025:\n",
      "\n",
      "**May 2, 2025:**\n",
      "- YongSuk OFF\n",
      "- Subin OFF\n",
      "- 반반차_Yuna\n",
      "- Jiho OFF\n",
      "- ByungSoo OFF\u001b[0m\n",
      "\n",
      "\u001b[1m> Finished chain.\u001b[0m\n",
      "Agent executed result:\n",
      "Here are the events for the date range from May 1, 2025, to May 2, 2025:\n",
      "\n",
      "**May 2, 2025:**\n",
      "- YongSuk OFF\n",
      "- Subin OFF\n",
      "- 반반차_Yuna\n",
      "- Jiho OFF\n",
      "- ByungSoo OFF\n"
     ]
    }
   ],
   "source": [
    "llm = AzureChatOpenAI(deployment_name=\"gpt-4.1\", temperature=0.2)\n",
    "tools = [search_google_calendar_events]\n",
    "template = \"\"\"\n",
    "You are a helpful assistant. When the user asks for events, search Google Calendar for the relevant date range.\n",
    "The current state of the agent is:\n",
    "{agent_scratchpad}\n",
    "\n",
    "### Data range\n",
    "start_date:{start_date}\n",
    "end_date:{end_date}\n",
    "\n",
    "Your task is to find the events in the given date range, based on the user's request. \n",
    "Use the tool 'search_google_calendar_events' to fetch the events. \n",
    "Ensure you extract the date range from the user's input and pass it to the tool. \n",
    "Provide the event details in the following format:\n",
    "Event Start Time: Event Title\n",
    "\"\"\"\n",
    "prompt = PromptTemplate.from_template(template)\n",
    "\n",
    "agent = create_tool_calling_agent(llm, tools, prompt)\n",
    "\n",
    "agent_executor = AgentExecutor(\n",
    "    agent=agent,\n",
    "    tools=tools,\n",
    "    verbose=True,\n",
    "    max_iterations=10,\n",
    "    max_execution_time=10,\n",
    "    handle_parsing_errors=True,\n",
    ")\n",
    "\n",
    "user_input = {\"start_date\": \"2025-05-01\",\"end_date\": \"2025-05-2\"}\n",
    "\n",
    "try:\n",
    "    result = agent_executor.invoke(user_input)\n",
    "    print(\"Agent executed result:\")\n",
    "    print(result[\"output\"])\n",
    "except Exception as e:\n",
    "    print(f\"Error during agent execution: {e}\")\n"
   ]
  },
  {
   "cell_type": "code",
   "execution_count": null,
   "metadata": {},
   "outputs": [],
   "source": []
  },
  {
   "cell_type": "code",
   "execution_count": null,
   "metadata": {},
   "outputs": [],
   "source": []
  }
 ],
 "metadata": {
  "kernelspec": {
   "display_name": "data-analysis-l7RAnGNO-py3.11",
   "language": "python",
   "name": "python3"
  },
  "language_info": {
   "codemirror_mode": {
    "name": "ipython",
    "version": 3
   },
   "file_extension": ".py",
   "mimetype": "text/x-python",
   "name": "python",
   "nbconvert_exporter": "python",
   "pygments_lexer": "ipython3",
   "version": "3.11.11"
  }
 },
 "nbformat": 4,
 "nbformat_minor": 2
}
